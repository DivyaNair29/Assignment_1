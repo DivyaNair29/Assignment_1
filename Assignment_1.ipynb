{
 "cells": [
  {
   "cell_type": "markdown",
   "id": "aa2bb597",
   "metadata": {},
   "source": [
    "1. In the below elements which of them are values or an expression? eg:- values can be integer or string and expressions will be mathematical operators.\n",
    "\n",
    "* = Expression ;\n",
    "'hello' = Value ;\n",
    " -87.8 = Value ;\n",
    " - = Expression ;\n",
    " / = Expression ;\n",
    "  + = Expression ;\n",
    " 6 = Value"
   ]
  },
  {
   "cell_type": "markdown",
   "id": "c847677b",
   "metadata": {},
   "source": [
    "2. What is the difference between string and variable?\n",
    "\n",
    "Ans: String -  String is one of the data types in python which is enclosed by \" \" or ' '. \n",
    "\n",
    "Variable - Variable is an entity which stores any function. For eg. x = 6, in this x is a variable which holds the value of 6."
   ]
  },
  {
   "cell_type": "markdown",
   "id": "d69ca055",
   "metadata": {},
   "source": [
    "3. Describe three different data types.\n",
    "\n",
    "Ans: Three different data types are - \n",
    " -String - Values enclosed by \" \" or ' ' are string data type. It is denoted by str.\n",
    " -Integer - Whole numeric values are known as integer data type. It is denoted by int.\n",
    " -List - Lists are enclosed by square bracket [ ]. A list can consists of string, integers, float values etc. "
   ]
  },
  {
   "cell_type": "markdown",
   "id": "44a956ac",
   "metadata": {},
   "source": [
    "4. What is an expression made up of? What do all expressions do?\n",
    "\n",
    "Ans: Expression consists of combination of values and operator which gives the result. Expressions performs the operation."
   ]
  },
  {
   "cell_type": "markdown",
   "id": "7954884f",
   "metadata": {},
   "source": [
    "5. This assignment statements, like spam = 10. What is the difference between an\n",
    "expression and a statement?\n",
    "\n",
    "Ans: Expression is the combination of values and operator which gives the result, whereas statement is an instruction to execute or carry out the code.\n",
    "spam = 10\n",
    "print(spam) is a statement\n",
    "spam = 10+10\n",
    "This is an expression"
   ]
  },
  {
   "cell_type": "markdown",
   "id": "5718b7ef",
   "metadata": {},
   "source": [
    "6. After running the following code, what does the variable bacon contain?\n",
    "bacon = 22\n",
    "bacon + 1\n",
    "\n",
    " Ans: 23"
   ]
  },
  {
   "cell_type": "markdown",
   "id": "f77c9dba",
   "metadata": {},
   "source": [
    "7. What should the values of the following two terms be?\n",
    "&#39;spam&#39; + &#39;spamspam&#39;\n",
    "&#39;spam&#39; * 3\n",
    "\n",
    "Ans: spamspamspam in both the cases"
   ]
  },
  {
   "cell_type": "markdown",
   "id": "07b29aec",
   "metadata": {},
   "source": [
    "8. Why is eggs a valid variable name while 100 is invalid?\n",
    "\n",
    "Ans: A variable can't start from an integer or only integer, variable is supposed to be a name and not some value."
   ]
  },
  {
   "cell_type": "markdown",
   "id": "ea76720f",
   "metadata": {},
   "source": [
    "9. What three functions can be used to get the integer, floating-point number, or string\n",
    "version of a value?\n",
    "\n",
    "Ans: int(), float(), str()"
   ]
  },
  {
   "cell_type": "markdown",
   "id": "82cc8060",
   "metadata": {},
   "source": [
    "10. Why does this expression cause an error? How can you fix it?\n",
    "&#39;I have eaten &#39; + 99 + &#39; burritos.&#39;\n",
    "\n",
    "Ans: &#39;I have eaten &#39; + str(99) + &#39; burritos.&#39;"
   ]
  }
 ],
 "metadata": {
  "kernelspec": {
   "display_name": "Python 3 (ipykernel)",
   "language": "python",
   "name": "python3"
  },
  "language_info": {
   "codemirror_mode": {
    "name": "ipython",
    "version": 3
   },
   "file_extension": ".py",
   "mimetype": "text/x-python",
   "name": "python",
   "nbconvert_exporter": "python",
   "pygments_lexer": "ipython3",
   "version": "3.9.7"
  }
 },
 "nbformat": 4,
 "nbformat_minor": 5
}
