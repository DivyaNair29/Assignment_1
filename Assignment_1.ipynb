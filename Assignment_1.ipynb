{
 "cells": [
  {
   "cell_type": "markdown",
   "id": "aa2bb597",
   "metadata": {},
   "source": [
    "1. In the below elements which of them are values or an expression? eg:- values can be integer or string and expressions will be mathematical operators.\n",
    "\n",
    "* = Expression\n",
    "'hello' = Value\n",
    " -87.8 = Value\n",
    " - = Expression\n",
    " / = Expression\n",
    "  + = Expression\n",
    " 6 = Value"
   ]
  },
  {
   "cell_type": "markdown",
   "id": "c847677b",
   "metadata": {},
   "source": [
    "2. What is the difference between string and variable?\n",
    "\n",
    "Ans: String -  String is one of the data types in python which is enclosed by \" \" or ' '. \n",
    "\n",
    "Variable - Variable is an entity which stores any function. For eg. x = 6, in this x is a variable which holds the value of 6."
   ]
  },
  {
   "cell_type": "markdown",
   "id": "d69ca055",
   "metadata": {},
   "source": [
    "3. Describe three different data types.\n",
    "\n",
    "Ans: Three different data types are - \n",
    " -String - Values enclosed by \" \" or ' ' are string data type. It is denoted by str.\n",
    " -Integer - Whole numeric values are known as integer data type. It is denoted by int.\n",
    " -List - Lists are enclosed by square bracket [ ]. A list can consists of string, integers, float values etc. "
   ]
  },
  {
   "cell_type": "markdown",
   "id": "44a956ac",
   "metadata": {},
   "source": [
    "4. What is an expression made up of? What do all expressions do?"
   ]
  }
 ],
 "metadata": {
  "kernelspec": {
   "display_name": "Python 3 (ipykernel)",
   "language": "python",
   "name": "python3"
  },
  "language_info": {
   "codemirror_mode": {
    "name": "ipython",
    "version": 3
   },
   "file_extension": ".py",
   "mimetype": "text/x-python",
   "name": "python",
   "nbconvert_exporter": "python",
   "pygments_lexer": "ipython3",
   "version": "3.9.7"
  }
 },
 "nbformat": 4,
 "nbformat_minor": 5
}
