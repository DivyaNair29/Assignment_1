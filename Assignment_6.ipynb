{
 "cells": [
  {
   "cell_type": "markdown",
   "id": "48e63b22",
   "metadata": {},
   "source": [
    "1. What are escape characters, and how do you use them?\n",
    "\n",
    "Ans: Escape character is used to insert special characters in a string. Escape character is a backlash (\\) followed by the character that has to be inserted.\n",
    "Eg : s = \"This my assignment.\\nI have to submit this soon.\""
   ]
  },
  {
   "cell_type": "markdown",
   "id": "330433d2",
   "metadata": {},
   "source": [
    "2. What do the escape characters n and t stand for\n",
    "\n",
    "Ans: n - for new line, \n",
    "t - tab"
   ]
  },
  {
   "cell_type": "markdown",
   "id": "c9fd1570",
   "metadata": {},
   "source": [
    "3. What is the way to include backslash characters in a string?\n",
    "\n",
    "Ans: s = \"This my assignment.\\nI have to submit this soon.\"\n",
    "t = \"Full stack\\tData Science\""
   ]
  },
  {
   "cell_type": "markdown",
   "id": "c7422a33",
   "metadata": {},
   "source": [
    "4. The string &quot;Howl&#39;s Moving Castle&quot; is a correct value. Why isn&#39;t the single quote character in the\n",
    "word Howl&#39;s not escaped a problem?\n",
    "\n",
    "Ans: Howl&#39;s is not escaped a problem because the string is encosed with a double quote."
   ]
  },
  {
   "cell_type": "markdown",
   "id": "1694f499",
   "metadata": {},
   "source": [
    "5. How do you write a string of newlines if you don&#39;t want to use the n character?\n",
    "\n",
    "Ans: String of newlines can be written within triple quotes \"\"\" \"\"\"."
   ]
  },
  {
   "cell_type": "markdown",
   "id": "56e979bc",
   "metadata": {},
   "source": [
    "6. What are the values of the given expressions?\n",
    "&#39;Hello, world!&#39;[1]\n",
    "&#39;Hello, world!&#39;[0:5]\n",
    "&#39;Hello, world!&#39;[:5]\n",
    "&#39;Hello, world!&#39;[3:]"
   ]
  },
  {
   "cell_type": "markdown",
   "id": "9f5770e6",
   "metadata": {},
   "source": [
    "#Ans: \n",
    "e\n",
    "Hello\n",
    "Hello\n",
    "lo, world!"
   ]
  },
  {
   "cell_type": "markdown",
   "id": "38cfcfb3",
   "metadata": {},
   "source": [
    "7. What are the values of the following expressions?\n",
    "&#39;Hello&#39;.upper()\n",
    "&#39;Hello&#39;.upper().isupper()\n",
    "&#39;Hello&#39;.upper().lower()"
   ]
  },
  {
   "cell_type": "markdown",
   "id": "a4e9d19a",
   "metadata": {},
   "source": [
    "HELLO,\n",
    "True,\n",
    "hello"
   ]
  },
  {
   "cell_type": "markdown",
   "id": "f1cb2fa1",
   "metadata": {},
   "source": [
    "8. What are the values of the following expressions?\n",
    "&#39;Remember, remember, the fifth of July.&#39;.split()\n",
    "&#39;-&#39;.join(&#39;There can only one.&#39;.split())"
   ]
  },
  {
   "cell_type": "markdown",
   "id": "5afb2dce",
   "metadata": {},
   "source": [
    "['Remember,', 'remember,', 'the', 'fifth', 'of', 'July.'],\n",
    "There-can-only-one."
   ]
  },
  {
   "cell_type": "markdown",
   "id": "6d890299",
   "metadata": {},
   "source": [
    "9. What are the methods for right-justifying, left-justifying, and centering a string?\n",
    "\n",
    "Ans: right-justifying : string.rjust(length, character) ;\n",
    "left-justifying : string.ljust(length, character) ;\n",
    "center : string.center(length, character) "
   ]
  },
  {
   "cell_type": "markdown",
   "id": "88e2c860",
   "metadata": {},
   "source": [
    "10. What is the best way to remove whitespace characters from the start or end?\n",
    "\n",
    "Ans: string.replace(' ', '')"
   ]
  }
 ],
 "metadata": {
  "kernelspec": {
   "display_name": "Python 3 (ipykernel)",
   "language": "python",
   "name": "python3"
  },
  "language_info": {
   "codemirror_mode": {
    "name": "ipython",
    "version": 3
   },
   "file_extension": ".py",
   "mimetype": "text/x-python",
   "name": "python",
   "nbconvert_exporter": "python",
   "pygments_lexer": "ipython3",
   "version": "3.9.7"
  }
 },
 "nbformat": 4,
 "nbformat_minor": 5
}
