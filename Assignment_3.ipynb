{
 "cells": [
  {
   "cell_type": "markdown",
   "id": "5436d12f",
   "metadata": {},
   "source": [
    "1. Why are functions advantageous to have in your programs?\n",
    "\n",
    "Ans: Following are the advantages:-\n",
    "1) It can consists of numerous line of code, i.e helps to divide large programs into small groups of code which is easier to read and understand.\n",
    "2) Functions can be called to get result\n",
    "3) Functions can be imported to another module if needed.\n",
    "4) Multiple parameter can be given using * \n"
   ]
  },
  {
   "cell_type": "markdown",
   "id": "8d181817",
   "metadata": {},
   "source": [
    "2. When does the code in a function run: when it&#39;s specified or when it&#39;s called?\n",
    "\n",
    "Ans: When it is called."
   ]
  },
  {
   "cell_type": "markdown",
   "id": "d35ccd83",
   "metadata": {},
   "source": [
    "3. What statement creates a function?\n",
    "\n",
    "Ans: def creates a function"
   ]
  },
  {
   "cell_type": "markdown",
   "id": "526a9860",
   "metadata": {},
   "source": [
    "4. What is the difference between a function and a function call?\n",
    "\n",
    "Ans: Function consists of line of codes which gives or returns the result according to the operations in the function.\n",
    "Whereas function call means calling the function which results in running the function to give the result.\n"
   ]
  },
  {
   "cell_type": "markdown",
   "id": "dfc7fb5c",
   "metadata": {},
   "source": [
    "5. How many global scopes are there in a Python program? How many local scopes?\n",
    "\n",
    "Ans: One Global Scope\n",
    "Multiple local scopes are possible"
   ]
  },
  {
   "cell_type": "markdown",
   "id": "eb00de52",
   "metadata": {},
   "source": [
    "6. What happens to variables in a local scope when the function call returns?\n",
    "\n",
    "Ans: Variables in a local scope becomes undefined after the function calls completes."
   ]
  },
  {
   "cell_type": "markdown",
   "id": "75a77df4",
   "metadata": {},
   "source": [
    "7. What is the concept of a return value? Is it possible to have a return value in an expression?\n",
    "\n",
    "Ans: Return is used to end the function and returns the result if the function is called. It retains the type of the data.\n",
    "Yes, it is possible to return a value in an expression."
   ]
  },
  {
   "cell_type": "markdown",
   "id": "3c36f9b8",
   "metadata": {},
   "source": [
    "8. If a function does not have a return statement, what is the return value of a call to that function?\n",
    "\n",
    "Ans: If a function does not have a return statement, then the function returns None."
   ]
  },
  {
   "cell_type": "markdown",
   "id": "7c51514a",
   "metadata": {},
   "source": [
    "9. How do you make a function variable refer to the global variable?\n",
    "\n",
    "Ans: Global Variable can be refered in function variable by mentioning global before the variable name at start of function.\n",
    "For eg:\n",
    "\n",
    "total = 100\n",
    "def sum1():\n",
    "    global total\n",
    "    if total < 20:\n",
    "        total = 15\n",
    "        "
   ]
  },
  {
   "cell_type": "markdown",
   "id": "55eded83",
   "metadata": {},
   "source": [
    "10. What is the data type of None?\n",
    "\n",
    "Ans: None data type is NoneType which defines null values or no values at all.\n"
   ]
  },
  {
   "cell_type": "markdown",
   "id": "7e8ec2f4",
   "metadata": {},
   "source": [
    "11. What does the sentence import areallyourpetsnamederic do?\n",
    "\n",
    "Ans: imports modeule name areallyourpetsnamederic"
   ]
  },
  {
   "cell_type": "markdown",
   "id": "2f3f771b",
   "metadata": {},
   "source": [
    "12. If you had a bacon() feature in a spam module, what would you call it after importing spam?\n",
    "\n",
    "Ans: spam.bacon()"
   ]
  },
  {
   "cell_type": "markdown",
   "id": "3e90d099",
   "metadata": {},
   "source": [
    "13. What can you do to save a programme from crashing if it encounters an error?\n",
    "\n",
    "Ans: By using try and except clause."
   ]
  },
  {
   "cell_type": "markdown",
   "id": "8b3232b3",
   "metadata": {},
   "source": [
    "14. What is the purpose of the try clause? What is the purpose of the except clause?\n",
    "\n",
    "Ans: Try clause lets you test the block of code for errors.\n",
    "\n",
    "Except clause lets you handle the error."
   ]
  }
 ],
 "metadata": {
  "kernelspec": {
   "display_name": "Python 3 (ipykernel)",
   "language": "python",
   "name": "python3"
  },
  "language_info": {
   "codemirror_mode": {
    "name": "ipython",
    "version": 3
   },
   "file_extension": ".py",
   "mimetype": "text/x-python",
   "name": "python",
   "nbconvert_exporter": "python",
   "pygments_lexer": "ipython3",
   "version": "3.9.7"
  }
 },
 "nbformat": 4,
 "nbformat_minor": 5
}
