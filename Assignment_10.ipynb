{
 "cells": [
  {
   "cell_type": "markdown",
   "id": "48c21991",
   "metadata": {},
   "source": [
    "1. How do you distinguish between shutil.copy() and shutil.copytree()?\n",
    "\n",
    "Ans: shutil.copy() will copy a single file whereas, shutil.copytree() will copy the entire folder."
   ]
  },
  {
   "cell_type": "markdown",
   "id": "ab679ac2",
   "metadata": {},
   "source": [
    "2. What function is used to rename files??\n",
    "\n",
    "Ans: rename()"
   ]
  },
  {
   "cell_type": "markdown",
   "id": "2da70e7e",
   "metadata": {},
   "source": [
    "3. What is the difference between the delete functions in the send2trash and shutil modules?\n",
    "\n",
    "Ans: send2trash function will move the file or folder to recycle bin and shutil module will delete the file or folder permanently."
   ]
  },
  {
   "cell_type": "markdown",
   "id": "d70ee858",
   "metadata": {},
   "source": [
    "4. ZipFile objects have a close() method just like File objects’ close() method. What ZipFile method is equivalent to File objects’ open() method?\n",
    "\n",
    "Ans: The zipfile.ZipFile() function is equivalent to the open() function; the first argument is the filename, and the second argument is the mode to open the ZIP file in (read, write, or append)."
   ]
  },
  {
   "cell_type": "markdown",
   "id": "39ca5ec9",
   "metadata": {},
   "source": [
    "5. Create a programme that searches a folder tree for files with a certain file extension (such as .pdfor .jpg). Copy these files from whatever location they are in to a new folder."
   ]
  },
  {
   "cell_type": "code",
   "execution_count": 8,
   "id": "43a3860e",
   "metadata": {},
   "outputs": [
    {
     "name": "stdout",
     "output_type": "stream",
     "text": [
      "Looking in C:\\Users\\divya\\Desktop\\python\\Full Stack Data Science\\Assignments\\Python Basics\\randomFolder for files with extensions of .php, .py\n"
     ]
    }
   ],
   "source": [
    "import os, shutil\n",
    "\n",
    "def folder_copy(folder, extensions, finalfolder):\n",
    "    folder = os.path.abspath(folder)\n",
    "    destFolder = os.path.abspath(finalfolder)\n",
    "    print('Looking in', folder, 'for files with extensions of', ', '.join(extensions))\n",
    "    for foldername, subfolders, filenames in os.walk(folder):\n",
    "        for filename in filenames:\n",
    "            name, extension = os.path.splitext(filename)\n",
    "            if extension in extensions:\n",
    "                fileAbsPath = foldername + os.path.sep + filename\n",
    "                print('Copying', fileAbsPath, 'to', finalfolder)\n",
    "                shutil.copy(fileAbsPath, finalfolder)\n",
    "\n",
    "extensions = ['.php', '.py']\n",
    "folder = 'randomFolder'\n",
    "finalfolder = 'selectiveFolder'\n",
    "folder_copy(folder, extensions, finalfolder)"
   ]
  }
 ],
 "metadata": {
  "kernelspec": {
   "display_name": "Python 3 (ipykernel)",
   "language": "python",
   "name": "python3"
  },
  "language_info": {
   "codemirror_mode": {
    "name": "ipython",
    "version": 3
   },
   "file_extension": ".py",
   "mimetype": "text/x-python",
   "name": "python",
   "nbconvert_exporter": "python",
   "pygments_lexer": "ipython3",
   "version": "3.9.7"
  }
 },
 "nbformat": 4,
 "nbformat_minor": 5
}
