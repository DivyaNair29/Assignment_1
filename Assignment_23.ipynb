{
 "cells": [
  {
   "cell_type": "markdown",
   "id": "8fd37054",
   "metadata": {},
   "source": [
    "1. What is the result of the code, and why?\n",
    "&gt;&gt;&gt; def func(a, b=6, c=8):\n",
    "print(a, b, c)\n",
    "&gt;&gt;&gt; func(1, 2)\n",
    "\n",
    "\n",
    "Ans: 1, 2, 8 .\n",
    "As the function is called with the parameters 1 and 2, which by default the function takes 1 as a, 2 as b and c value is given in the function."
   ]
  },
  {
   "cell_type": "markdown",
   "id": "3ed2e6ed",
   "metadata": {},
   "source": [
    "2. What is the result of this code, and why?\n",
    "&gt;&gt;&gt; def func(a, b, c=5):\n",
    "print(a, b, c)\n",
    "&gt;&gt;&gt; func(1, c=3, b=2)\n",
    "\n",
    "Ans: 1, 2, 3 .\n",
    "Function is called with parameter as 1, c=3, b=2, where a = 1, c is overwritten as 3 and b = 2."
   ]
  },
  {
   "cell_type": "markdown",
   "id": "50cacdf0",
   "metadata": {},
   "source": [
    "3. How about this code: what is its result, and why?\n",
    "&gt;&gt;&gt; def func(a, *pargs):\n",
    "print(a, pargs)\n",
    "&gt;&gt;&gt; func(1, 2, 3)\n",
    "\n",
    "Ans: 1 (2,3) . \n",
    "*pargs is used when multiple parameters can be entered while calling the function. That's why, 2 and 3 is returned as a tuple."
   ]
  },
  {
   "cell_type": "markdown",
   "id": "e90fa4e8",
   "metadata": {},
   "source": [
    "4. What does this code print, and why?\n",
    "&gt;&gt;&gt; def func(a, **kargs):\n",
    "print(a, kargs)\n",
    "&gt;&gt;&gt; func(a=1, c=3, b=2)\n",
    "\n",
    "Ans: 1 {'c': 3, 'b': 2}\n",
    "**kargs is used when dictionary can be given as parameters while calling the function. That is why c and b is returned as the key and 3 , 2 as their respective key."
   ]
  },
  {
   "cell_type": "markdown",
   "id": "99044243",
   "metadata": {},
   "source": [
    "5. What gets printed by this, and explain?\n",
    "&gt;&gt;&gt; def func(a, b, c=8, d=5): print(a, b, c, d)\n",
    "&gt;&gt;&gt; func(1, *(5, 6))\n",
    "\n",
    "\n",
    "Ans: 1 5 6 5\n",
    "func(1, *(5, 6)) takes a=1, b =5, c=6, d=5 as given in fumnction."
   ]
  },
  {
   "cell_type": "markdown",
   "id": "d8bf11bd",
   "metadata": {},
   "source": [
    "6. what is the result of this, and explain?\n",
    "&gt;&gt;&gt; def func(a, b, c): a = 2; b[0] = &#39;x&#39;; c[&#39;a&#39;] = &#39;y&#39;\n",
    "&gt;&gt;&gt; l=1; m=[1]; n={&#39;a&#39;:0}\n",
    "&gt;&gt;&gt; func(l, m, n)\n",
    "\n",
    "&gt;&gt;&gt; l, m, n\n",
    "\n",
    "\n",
    "Ans: (1, ['x'], {'a': 'y'})\n",
    "func(l, m, n) where a=l,b=m,c=n. l has value 1, m is list consisting of 'x' as b[0]='x' and c value becomes the value of n."
   ]
  }
 ],
 "metadata": {
  "kernelspec": {
   "display_name": "Python 3 (ipykernel)",
   "language": "python",
   "name": "python3"
  },
  "language_info": {
   "codemirror_mode": {
    "name": "ipython",
    "version": 3
   },
   "file_extension": ".py",
   "mimetype": "text/x-python",
   "name": "python",
   "nbconvert_exporter": "python",
   "pygments_lexer": "ipython3",
   "version": "3.9.7"
  }
 },
 "nbformat": 4,
 "nbformat_minor": 5
}
