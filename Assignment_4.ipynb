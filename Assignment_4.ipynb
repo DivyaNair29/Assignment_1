{
 "cells": [
  {
   "cell_type": "markdown",
   "id": "6a6f2491",
   "metadata": {},
   "source": [
    "1. What exactly is []?\n",
    "\n",
    "Ans: Square brackets [] is used to depict list data type."
   ]
  },
  {
   "cell_type": "markdown",
   "id": "eb09e964",
   "metadata": {},
   "source": [
    "2. In a list of values stored in a variable called spam, how would you assign the value &#39;hello&#39; as the\n",
    "third value? (Assume [2, 4, 6, 8, 10] are in spam.)\n",
    "\n",
    "\n",
    "Ans: spam.insert(2,\"hello\")"
   ]
  },
  {
   "cell_type": "markdown",
   "id": "36726cc6",
   "metadata": {},
   "source": [
    "Let&#39;s pretend the spam includes the list [&#39;a&#39;, &#39;b&#39;, &#39;c&#39;, &#39;d&#39;] for the next three queries."
   ]
  },
  {
   "cell_type": "markdown",
   "id": "e2219895",
   "metadata": {},
   "source": [
    "3. What is the value of spam[int(int(&#39;3&#39; * 2) / 11)]?\n",
    "\n",
    "Ans: 'd'"
   ]
  },
  {
   "cell_type": "markdown",
   "id": "6f785bc5",
   "metadata": {},
   "source": [
    "4. What is the value of spam[-1]?\n",
    "\n",
    "Ans:'d'"
   ]
  },
  {
   "cell_type": "markdown",
   "id": "0bd1e44b",
   "metadata": {},
   "source": [
    "5. What is the value of spam[:2]?\n",
    "\n",
    "Ans: ['a', 'b']"
   ]
  },
  {
   "cell_type": "markdown",
   "id": "584139d6",
   "metadata": {},
   "source": [
    "Let&#39;s pretend bacon has the list [3.14, &#39;cat,&#39; 11, &#39;cat,&#39; True] for the next three questions.\n",
    "\n",
    "6. What is the value of bacon.index(&#39;cat&#39;)?\n",
    "\n",
    "Ans: Invalid Syntax, because of wrongly comma separated.\n",
    "if bacon = [3.14, 'cat', 11, 'cat', True]\n",
    "then, bacon.index(&#39;cat&#39;)\n",
    "1"
   ]
  },
  {
   "cell_type": "markdown",
   "id": "c3ad22ba",
   "metadata": {},
   "source": [
    "7. How does bacon.append(99) change the look of the list value in bacon?\n",
    "\n",
    "Ans: [3.14, 'cat', 11, 'cat', True, 99]"
   ]
  },
  {
   "cell_type": "markdown",
   "id": "2ad4dcb8",
   "metadata": {},
   "source": [
    "8. How does bacon.remove(&#39;cat&#39;) change the look of the list in bacon?\n",
    "\n",
    "Ans: [3.14, 11, 'cat', True]"
   ]
  },
  {
   "cell_type": "markdown",
   "id": "4f22df14",
   "metadata": {},
   "source": [
    "9. What are the list concatenation and list replication operators?\n",
    "\n",
    "Ans: List Concatenation means adding two list using +, List replication opeator is * to replicate the list."
   ]
  },
  {
   "cell_type": "markdown",
   "id": "e840372c",
   "metadata": {},
   "source": [
    "10. What is difference between the list methods append() and insert()?\n",
    "\n",
    "Ans: append() - Adds the object or value in the end of the list, list.append(object). Example: l1 = [1,5,6,8] ; l1.append(9) gives result as l1 = [1,5,6,8,9]\n",
    "\n",
    "insert() - Inserts the object or value in the specified index number, list.insert(index,object). Example: l1 = [1,5,6,8] ; l1.insert(1,9) gives result as l1 = [1,9,5,6,8]\n"
   ]
  },
  {
   "cell_type": "code",
   "execution_count": 21,
   "id": "e0fe828f",
   "metadata": {},
   "outputs": [
    {
     "data": {
      "text/plain": [
       "[1, 9, 5, 6, 8]"
      ]
     },
     "execution_count": 21,
     "metadata": {},
     "output_type": "execute_result"
    }
   ],
   "source": []
  },
  {
   "cell_type": "markdown",
   "id": "e89ebea6",
   "metadata": {},
   "source": [
    "11. What are the two methods for removing items from a list?\n",
    "\n",
    "Ans: remove(), pop()\n"
   ]
  },
  {
   "cell_type": "markdown",
   "id": "793dd77d",
   "metadata": {},
   "source": [
    "12. Describe how list values and string values are identical.\n",
    "\n",
    "Ans: Both list and string values have indexes, can be concatenated or replicated, length of values can be determined, can be iterated."
   ]
  },
  {
   "cell_type": "markdown",
   "id": "5382aa23",
   "metadata": {},
   "source": [
    "13. What's the difference between tuples and lists?\n",
    "\n",
    "Ans: Tuples - 1) Depicted by ()\n",
    "2) Tuples are immutable\n",
    "3) Tuples are appropriate for accessing the elements. \n",
    "4) The implication of iterations is comparatively Faster\n",
    "\n",
    "List - 1) Depicted by []\n",
    "2) Lists are mutable\n",
    "3) Lists is better for performing operations.\n",
    "4) Implication of iterations is Time-consuming."
   ]
  },
  {
   "cell_type": "markdown",
   "id": "84b5f29a",
   "metadata": {},
   "source": [
    "14. How do you type a tuple value that only contains the integer 42?\n",
    "\n",
    "Ans: t = (42,)"
   ]
  },
  {
   "cell_type": "markdown",
   "id": "f12629fd",
   "metadata": {},
   "source": [
    "15. How do you get a list value&#39;s tuple form? How do you get a tuple value&#39;s list form?\n",
    "\n",
    "list to tuple = tuple()\n",
    "tuple to list = list()"
   ]
  },
  {
   "cell_type": "markdown",
   "id": "a39191d5",
   "metadata": {},
   "source": [
    "16. Variables that &quot;contain&quot; list values are not necessarily lists themselves. Instead, what do they\n",
    "contain?\n",
    "\n",
    "Ans: They contain references to list values."
   ]
  },
  {
   "cell_type": "markdown",
   "id": "ff27160b",
   "metadata": {},
   "source": [
    "17. How do you distinguish between copy.copy() and copy.deepcopy()?\n",
    "\n",
    "Ans: The copy.copy() function will do a shallow copy of a list, while the copy.deepcopy() function will duplicate any lists inside the list."
   ]
  }
 ],
 "metadata": {
  "kernelspec": {
   "display_name": "Python 3 (ipykernel)",
   "language": "python",
   "name": "python3"
  },
  "language_info": {
   "codemirror_mode": {
    "name": "ipython",
    "version": 3
   },
   "file_extension": ".py",
   "mimetype": "text/x-python",
   "name": "python",
   "nbconvert_exporter": "python",
   "pygments_lexer": "ipython3",
   "version": "3.9.7"
  }
 },
 "nbformat": 4,
 "nbformat_minor": 5
}
