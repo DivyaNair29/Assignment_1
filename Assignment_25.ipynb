{
 "cells": [
  {
   "cell_type": "markdown",
   "id": "c7916fe2",
   "metadata": {},
   "source": [
    "1) What is the difference between enclosing a list comprehension in square brackets and parentheses?\n",
    "\n",
    "Ans: A list comprehension in square brackets are list and in parantheses are tuples. Lists are mutable whereas tuples are not."
   ]
  },
  {
   "cell_type": "markdown",
   "id": "ea1208a3",
   "metadata": {},
   "source": [
    "2) What is the relationship between generators and iterators?\n",
    "\n",
    "Ans: Iterators - Iterator is an object used to iterable objects like lists,tuples etc. An object is called iterable if it can be iterated through loop.\n",
    "Generators - A generator is somewhat of a function that returns an iterator object with a succession of values rather than a single item. A yield statement, rather than a return statement, is used in a generator function. "
   ]
  },
  {
   "cell_type": "markdown",
   "id": "ee91cc7e",
   "metadata": {},
   "source": [
    "3) What are the signs that a function is a generator function?\n",
    "\n",
    "Ans: When a function consists of a yield statement. A yield statement turns a regular function into a genertaor funtion."
   ]
  },
  {
   "cell_type": "markdown",
   "id": "34937a5f",
   "metadata": {},
   "source": [
    "4) What is the purpose of a yield statement?\n",
    "\n",
    "Ans: Yield statement only pauses the execution of the function and also it is executed after the funvtion resumes."
   ]
  },
  {
   "cell_type": "markdown",
   "id": "f255325d",
   "metadata": {},
   "source": [
    "5) What is the relationship between map calls and list comprehensions? Make a comparison and contrast between the two.\n",
    "\n",
    "Ans : Contrast - List comprehensions are used when a list of results is required as map only return a map object. List comprehensions is more easy to ready as compared to the result of the map calls.\n",
    "\n",
    "Comparisons -  Both has similar configuration."
   ]
  }
 ],
 "metadata": {
  "kernelspec": {
   "display_name": "Python 3 (ipykernel)",
   "language": "python",
   "name": "python3"
  },
  "language_info": {
   "codemirror_mode": {
    "name": "ipython",
    "version": 3
   },
   "file_extension": ".py",
   "mimetype": "text/x-python",
   "name": "python",
   "nbconvert_exporter": "python",
   "pygments_lexer": "ipython3",
   "version": "3.9.7"
  }
 },
 "nbformat": 4,
 "nbformat_minor": 5
}
