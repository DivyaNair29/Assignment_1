{
 "cells": [
  {
   "cell_type": "markdown",
   "id": "89643dd9",
   "metadata": {},
   "source": [
    "1. To what does a relative path refer?\n",
    "\n",
    "Ans: relative path depicts the location of a file or folder is relative to the current working directory. It uses two special symbols, (.) and (..)"
   ]
  },
  {
   "cell_type": "markdown",
   "id": "4a87a0a9",
   "metadata": {},
   "source": [
    "2. What does an absolute path start with your operating system?\n",
    "\n",
    "Ans: Absolute path starts with /"
   ]
  },
  {
   "cell_type": "markdown",
   "id": "d606e4f6",
   "metadata": {},
   "source": [
    "3. What do the functions os.getcwd() and os.chdir() do?\n",
    "\n",
    "Ans: os.getcwd() returns current working directory. os.chdir() is used to change the current working directory to a specified path."
   ]
  },
  {
   "cell_type": "markdown",
   "id": "f9b0229c",
   "metadata": {},
   "source": [
    "4. What are the . and .. folders?\n",
    "\n",
    "Ans: . is the current folder and .. is the parent folder."
   ]
  },
  {
   "cell_type": "markdown",
   "id": "d0101a40",
   "metadata": {},
   "source": [
    "5. In C:\\bacon\\eggs\\spam.txt, which part is the dir name, and which part is the base name?\n",
    "\n",
    "Ans: C:\\bacon\\eggs is the dir name and spam.txt is the base name."
   ]
  },
  {
   "cell_type": "markdown",
   "id": "83a8bad4",
   "metadata": {},
   "source": [
    "6. What are the three “mode” arguments that can be passed to the open() function?\n",
    "\n",
    "Ans: \"r\" - read mode , \"w\" - write mode and \"a\" - append mode."
   ]
  },
  {
   "cell_type": "markdown",
   "id": "d23c43a9",
   "metadata": {},
   "source": [
    "7. What happens if an existing file is opened in write mode?\n",
    "\n",
    "Ans: An existing open file in write mode will be earsed and overwritten."
   ]
  },
  {
   "cell_type": "markdown",
   "id": "7dca9ffe",
   "metadata": {},
   "source": [
    "8. How do you tell the difference between read() and readlines()?\n",
    "\n",
    "Ans: read() returns the entire content in the file in a single string. readlines() returns a list of strings, where each line is a string."
   ]
  },
  {
   "cell_type": "markdown",
   "id": "5356d338",
   "metadata": {},
   "source": [
    "9. What data structure does a shelf value resemble?\n",
    "\n",
    "Ans: Shelf value resembles a dictionary value, it has a keys and values."
   ]
  }
 ],
 "metadata": {
  "kernelspec": {
   "display_name": "Python 3 (ipykernel)",
   "language": "python",
   "name": "python3"
  },
  "language_info": {
   "codemirror_mode": {
    "name": "ipython",
    "version": 3
   },
   "file_extension": ".py",
   "mimetype": "text/x-python",
   "name": "python",
   "nbconvert_exporter": "python",
   "pygments_lexer": "ipython3",
   "version": "3.9.7"
  }
 },
 "nbformat": 4,
 "nbformat_minor": 5
}
