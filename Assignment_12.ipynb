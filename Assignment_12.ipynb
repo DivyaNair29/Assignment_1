{
 "cells": [
  {
   "cell_type": "markdown",
   "id": "6728bf8d",
   "metadata": {},
   "source": [
    "1. In what modes should the PdfFileReader() and PdfFileWriter() File objects will be opened?\n",
    "\n",
    "Ans: PdfFileReader() - \"rb\" mode, read binary mode. PdfFileWriter() - \"wb\" mode, write binary mode."
   ]
  },
  {
   "cell_type": "markdown",
   "id": "5147bda2",
   "metadata": {},
   "source": [
    "2. From a PdfFileReader object, how do you get a Page object for page 5?\n",
    "\n",
    "Ans: Call getPage(4)"
   ]
  },
  {
   "cell_type": "markdown",
   "id": "13b94f79",
   "metadata": {},
   "source": [
    "3. What PdfFileReader variable stores the number of pages in the PDF document?\n",
    "\n",
    "Ans: Call numPages"
   ]
  },
  {
   "cell_type": "markdown",
   "id": "957b8a5f",
   "metadata": {},
   "source": [
    "4. If a PdfFileReader object’s PDF is encrypted with the password swordfish, what must you do\n",
    "before you can obtain Page objects from it?\n",
    "\n",
    "Ans: Call decrypt('swordfish')"
   ]
  },
  {
   "cell_type": "markdown",
   "id": "0649188c",
   "metadata": {},
   "source": [
    "5. What methods do you use to rotate a page?\n",
    "\n",
    "Ans: Call rotateClockwise()"
   ]
  },
  {
   "cell_type": "markdown",
   "id": "b3e7ded5",
   "metadata": {},
   "source": [
    "6. What is the difference between a Run object and a Paragraph object?\n",
    "\n",
    "Ans: Paragraph object starts from new line and has many run objects. Run Objects are contiguous group of characters in the paragraph."
   ]
  },
  {
   "cell_type": "markdown",
   "id": "edce27ab",
   "metadata": {},
   "source": [
    "7. How do you obtain a list of Paragraph objects for a Document object that’s stored in a variable\n",
    "named doc?\n",
    "\n",
    "Ans: doc.paragraphs"
   ]
  },
  {
   "cell_type": "markdown",
   "id": "408df988",
   "metadata": {},
   "source": [
    "8. What type of object has bold, underline, italic, strike, and outline variables?\n",
    "\n",
    "Ans: Run Object has bold, underline, italic, strike, and outline variables"
   ]
  },
  {
   "cell_type": "markdown",
   "id": "7edc54a3",
   "metadata": {},
   "source": [
    "9. What is the difference between False, True, and None for the bold variable?\n",
    "\n",
    "Ans: False (the bold attribute is always disabled), True (the bold attribute is always enabled, no matter what other styles are applied to the run), None (defaults to whatever the run’s style is set to).\n",
    "\n",
    "True always makes the Run object bolded and False makes it always not bolded, no matter what the style’s bold setting is. None will make the Run object just use the style’s bold setting.\n"
   ]
  },
  {
   "cell_type": "markdown",
   "id": "a7751a30",
   "metadata": {},
   "source": [
    "10. How do you create a Document object for a new Word document?\n",
    "\n",
    "Ans: Call docx.Document()"
   ]
  },
  {
   "cell_type": "markdown",
   "id": "63645f2a",
   "metadata": {},
   "source": [
    "11. How do you add a paragraph with the text &#39;Hello, there!&#39; to a Document object stored in a\n",
    "variable named doc?\n",
    "\n",
    "Ans: doc.add_paragraph(\"Hello, there!\")"
   ]
  },
  {
   "cell_type": "markdown",
   "id": "9298da23",
   "metadata": {},
   "source": [
    "12. What integers represent the levels of headings available in Word documents?\n",
    "\n",
    "Ans: Integer 0 - Heading, the Title Style. Integer 1 to 4 - different levels of headlines, 1 being the main heading and 4 being the lowest subheading."
   ]
  }
 ],
 "metadata": {
  "kernelspec": {
   "display_name": "Python 3 (ipykernel)",
   "language": "python",
   "name": "python3"
  },
  "language_info": {
   "codemirror_mode": {
    "name": "ipython",
    "version": 3
   },
   "file_extension": ".py",
   "mimetype": "text/x-python",
   "name": "python",
   "nbconvert_exporter": "python",
   "pygments_lexer": "ipython3",
   "version": "3.9.7"
  }
 },
 "nbformat": 4,
 "nbformat_minor": 5
}
