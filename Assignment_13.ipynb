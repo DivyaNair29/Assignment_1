{
 "cells": [
  {
   "cell_type": "markdown",
   "id": "e0a82c43",
   "metadata": {},
   "source": [
    "1. What advantages do Excel spreadsheets have over CSV spreadsheets?\n",
    "\n",
    "Ans: Excel can have other data types in the cells other than the string data type. Images, charts can be added in the excel spreadsheet. Height and width of the cell can vary."
   ]
  },
  {
   "cell_type": "markdown",
   "id": "3fab40b7",
   "metadata": {},
   "source": [
    "2.What do you pass to csv.reader() and csv.writer() to create reader and writer objects?\n",
    "\n",
    "Ans: File object is passed which has been opened using open()."
   ]
  },
  {
   "cell_type": "markdown",
   "id": "698dc4d6",
   "metadata": {},
   "source": [
    "3. What modes do File objects for reader and writer objects need to be opened in?\n",
    "\n",
    "Ans: 'rb' for reader objects and 'wb' for writer objects."
   ]
  },
  {
   "cell_type": "markdown",
   "id": "95df9e81",
   "metadata": {},
   "source": [
    "4. What method takes a list argument and writes it to a CSV file?\n",
    "\n",
    "Ans: writerow()"
   ]
  },
  {
   "cell_type": "markdown",
   "id": "2dc3184d",
   "metadata": {},
   "source": [
    "5. What do the keyword arguments delimiter and line terminator do?\n",
    "\n",
    "Ans:The delimiter argument changes the string used to separate cells in a row. The lineterminator argument changes the string used to separate rows."
   ]
  },
  {
   "cell_type": "markdown",
   "id": "b5eed206",
   "metadata": {},
   "source": [
    "6. What function takes a string of JSON data and returns a Python data structure?\n",
    "\n",
    "Ans: json.loads()"
   ]
  },
  {
   "cell_type": "markdown",
   "id": "ac9d6cc5",
   "metadata": {},
   "source": [
    "7. What function takes a Python data structure and returns a string of JSON data?\n",
    "\n",
    "Ans: json.dumps()"
   ]
  }
 ],
 "metadata": {
  "kernelspec": {
   "display_name": "Python 3 (ipykernel)",
   "language": "python",
   "name": "python3"
  },
  "language_info": {
   "codemirror_mode": {
    "name": "ipython",
    "version": 3
   },
   "file_extension": ".py",
   "mimetype": "text/x-python",
   "name": "python",
   "nbconvert_exporter": "python",
   "pygments_lexer": "ipython3",
   "version": "3.9.7"
  }
 },
 "nbformat": 4,
 "nbformat_minor": 5
}
