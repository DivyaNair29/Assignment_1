{
 "cells": [
  {
   "cell_type": "markdown",
   "id": "03b51b5d",
   "metadata": {},
   "source": [
    "1. Create an assert statement that throws an AssertionError if the variable spam is a negative\n",
    "integer.\n",
    "\n",
    "Ans: \n",
    "x=int(input(\"Enter a positive integer: \"))\n",
    "assert int(x) > 0, \"variable is a negative integer.\"\n",
    "    "
   ]
  },
  {
   "cell_type": "markdown",
   "id": "e32da857",
   "metadata": {},
   "source": [
    "2. Write an assert statement that triggers an AssertionError if the variables eggs and bacon contain\n",
    "strings that are the same as each other, even if their cases are different (that is, &#39;hello&#39; and &#39;hello&#39; are\n",
    "considered the same, and &#39;goodbye&#39; and &#39;GOODbye&#39; are also considered the same).\n",
    "\n",
    "Ans:\n",
    "eggs = input(\"Enter a string: \").lower()\n",
    "bacon = input(\"Enter a string: \").lower()\n",
    "\n",
    "assert eggs != bacon, \"Both the strings are same.\"\n"
   ]
  },
  {
   "cell_type": "markdown",
   "id": "18b3275f",
   "metadata": {},
   "source": [
    "3. Create an assert statement that throws an AssertionError every time.\n",
    "\n",
    "Ans: \n",
    "    assert True, 'AssertionError everytime.'"
   ]
  },
  {
   "cell_type": "markdown",
   "id": "88f23d86",
   "metadata": {},
   "source": [
    "4. What are the two lines that must be present in your software in order to call logging.debug()?\n",
    "\n",
    "Ans:\n",
    "    import logging\n",
    "    logging.BasciConfig(filename = '', level = logging.DEBUG)"
   ]
  },
  {
   "cell_type": "markdown",
   "id": "d0a952b3",
   "metadata": {},
   "source": [
    "5. What are the two lines that your program must have in order to have logging.debug() send a\n",
    "logging message to a file named programLog.txt?\n",
    "\n",
    "Ans: import logging\n",
    "    logging.BasciConfig(filename = 'programLog.txt', level = logging.DEBUG, format='%(asctime)s - %(levelname)s - %(message)s')"
   ]
  },
  {
   "cell_type": "markdown",
   "id": "f86b4c0f",
   "metadata": {},
   "source": [
    "6. What are the five levels of logging?\n",
    "\n",
    "Ans: logging.info(), logging.debug(), logging.warning(), logging.error(), logging.critical()"
   ]
  },
  {
   "cell_type": "markdown",
   "id": "ea50beb5",
   "metadata": {},
   "source": [
    "7. What line of code would you add to your software to disable all logging messages?\n",
    "\n",
    "Ans: logging.disable(logging.INFO)"
   ]
  },
  {
   "cell_type": "markdown",
   "id": "9f582cf1",
   "metadata": {},
   "source": [
    "8.Why is using logging messages better than using print() to display the same message?\n",
    "\n",
    "Ans:1) Each print() statements need to be removed whereas in case of logging, it can be disabled whenever required using a single statment.\n",
    "   2) It is easy to find the result i.e. in a specific file.\n",
    "   3) The logging can be differentiated according to the severity."
   ]
  },
  {
   "cell_type": "markdown",
   "id": "890e11fc",
   "metadata": {},
   "source": [
    "9. What are the differences between the Step Over, Step In, and Step Out buttons in the debugger?\n",
    "\n",
    "Ans: Step Over - Executes next line of code.\n",
    "    Step In - Exectues line-by-line debugging.\n",
    "    Step Out - Execute the lines of code unti it returns from the current function.\n"
   ]
  },
  {
   "cell_type": "markdown",
   "id": "be877ffa",
   "metadata": {},
   "source": [
    "10.After you click Continue, when will the debugger stop ?\n",
    "\n",
    "Ans: The debigger will continue execution utill the next breakpoint is reached or program exits."
   ]
  },
  {
   "cell_type": "markdown",
   "id": "8d12dc70",
   "metadata": {},
   "source": [
    "11. What is the concept of a breakpoint?\n",
    "\n",
    "Ans: When you have Debugger enabled and you can right click on any lines to create a breakpoint. During Go or Continue - it will stop there and await your nextcommand."
   ]
  }
 ],
 "metadata": {
  "kernelspec": {
   "display_name": "Python 3 (ipykernel)",
   "language": "python",
   "name": "python3"
  },
  "language_info": {
   "codemirror_mode": {
    "name": "ipython",
    "version": 3
   },
   "file_extension": ".py",
   "mimetype": "text/x-python",
   "name": "python",
   "nbconvert_exporter": "python",
   "pygments_lexer": "ipython3",
   "version": "3.9.7"
  }
 },
 "nbformat": 4,
 "nbformat_minor": 5
}
