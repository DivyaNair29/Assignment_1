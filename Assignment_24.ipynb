{
 "cells": [
  {
   "cell_type": "markdown",
   "id": "5df6acc8",
   "metadata": {},
   "source": [
    "1. What is the relationship between def statements and lambda expressions?\n",
    "\n",
    "Ans: def can consists of multiple lines whereas lambda expression consists of a single line function. The def statements are easy to understand whereas lambda expression can be little complicated."
   ]
  },
  {
   "cell_type": "markdown",
   "id": "28dc5723",
   "metadata": {},
   "source": [
    "2. What is the benefit of lambda?\n",
    "\n",
    "Ans: Lambda consists of only one line which reduces the run time and space occupied."
   ]
  },
  {
   "cell_type": "markdown",
   "id": "96cf0db9",
   "metadata": {},
   "source": [
    "3. Compare and contrast map, filter, and reduce.\n",
    "\n",
    "Ans: Map - map() function iterates through all items in the given iterables and executes the function. map(function, ietrable)\n",
    "\n",
    "Filter - Like map(), filter() takes a function object and an iterable and creates a new list. filter(function, iterable(s))\n",
    "\n",
    "Reduce - reduce() returns a single value instead of a new list unlike map() and filter(). reduce(function, sequence[,initial]\n"
   ]
  },
  {
   "cell_type": "markdown",
   "id": "2422f599",
   "metadata": {},
   "source": [
    "4. What are function annotations, and how are they used?\n",
    "\n",
    "Ans: Function annotations is the standard way to access the metadata with the arguments and the return value of the function. \n",
    "For eg - \n",
    "\n",
    "def sum_of_numbers(a: 'int', b: 'int') -> 'int':\n",
    "                     return a+b\n",
    "                     \n",
    "Here the data type of the parameters a and b is marked through annotation, int. Similarly, the annotation for the return value is also assigned as int."
   ]
  },
  {
   "cell_type": "markdown",
   "id": "bcaa238e",
   "metadata": {},
   "source": [
    "5. What are recursive functions, and how are they used?\n",
    "\n",
    "Ans: When the function calls itself in the function, then it is a recursive function.\n",
    "For eg:\n",
    "\n",
    "def nums(a,b):\n",
    "      nums()\n",
    "      \n",
    "nums()\n"
   ]
  },
  {
   "cell_type": "markdown",
   "id": "c10aef76",
   "metadata": {},
   "source": [
    "6. What are some general design guidelines for coding functions?\n",
    "\n",
    "Ans: 1) use docstrings\n",
    "     2) wrap up the lines so that 79 characters are not exceeded\n",
    "     3) Use of comments for making it easier for the coder and user to understand the code.\n",
    "     4) Naming conventions"
   ]
  },
  {
   "cell_type": "markdown",
   "id": "e8c30e10",
   "metadata": {},
   "source": [
    "7. Name three or more ways that functions can communicate results to a caller.\n",
    "\n",
    "Ans: functions can communicate results to a caller by using retrun, yield, with system devices such as files and sockets etc."
   ]
  }
 ],
 "metadata": {
  "kernelspec": {
   "display_name": "Python 3 (ipykernel)",
   "language": "python",
   "name": "python3"
  },
  "language_info": {
   "codemirror_mode": {
    "name": "ipython",
    "version": 3
   },
   "file_extension": ".py",
   "mimetype": "text/x-python",
   "name": "python",
   "nbconvert_exporter": "python",
   "pygments_lexer": "ipython3",
   "version": "3.9.7"
  }
 },
 "nbformat": 4,
 "nbformat_minor": 5
}
